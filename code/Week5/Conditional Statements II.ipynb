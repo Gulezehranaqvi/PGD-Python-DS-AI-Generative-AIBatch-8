{
 "cells": [
  {
   "cell_type": "raw",
   "id": "c2671514",
   "metadata": {},
   "source": [
    "1- Check whether the number entered by a user is Even or Odd\n",
    "2- Check whether a number is divisible by 7 or not"
   ]
  },
  {
   "cell_type": "raw",
   "id": "0544dd77",
   "metadata": {},
   "source": [
    "3-calculate the electricity bill, we must understand electricity charges and rates.\n",
    "1 - 100 unit - 1.5/= \n",
    "101-200 unit - 2.5/= \n",
    "201-300 unit - 4/= \n",
    "300 - 350 unit - 5/=\n",
    "above 350 - fixed charge 1500/=\n",
    "Additional charges\n",
    "if units<=100 – 25.00\n",
    "if 100< units and units<=200 – 50.00\n",
    "if 200 < units and units<=300 – 75.00\n",
    "if 300<units and units<=350 – 100.00\n",
    "if units above 350 – No additional charges"
   ]
  },
  {
   "cell_type": "code",
   "execution_count": 4,
   "id": "da0f3748",
   "metadata": {},
   "outputs": [
    {
     "name": "stdout",
     "output_type": "stream",
     "text": [
      "Please enter the number of units you consumed in a Month : 100\n",
      "Electicity bill 175.0\n"
     ]
    }
   ],
   "source": [
    "#program for calculating electricity bill in Python\n",
    "units=int(input(\"Please enter the number of units you consumed in a Month : \"))\n",
    "if(units<=100):\n",
    "    payAmount=units*1.5\n",
    "    fixedcharge=25.00\n",
    "elif(units<=200):\n",
    "    payAmount=(100*1.5)+(units-100)*2.5\n",
    "    fixedcharge=50.00\n",
    "elif(units<=300):\n",
    "    payAmount=(100*1.5)+(200-100)*2.5+(units-200)*4\n",
    "    fixedcharge=75.00\n",
    "elif(units<=350):\n",
    "    payAmount=(100*1.5)+(200-100)*2.5+(300-200)*4+(units-300)*5\n",
    "    fixedcharge=100.00\n",
    "else:\n",
    "    payAmount=0\n",
    "    fixedcharge=1500.00\n",
    "\n",
    "Total=payAmount+fixedcharge\n",
    "print(\"Electicity bill\" ,Total)"
   ]
  },
  {
   "cell_type": "code",
   "execution_count": 12,
   "id": "d51faedc",
   "metadata": {},
   "outputs": [
    {
     "name": "stdout",
     "output_type": "stream",
     "text": [
      "\n",
      "1- Addition \n",
      "2- Subtraction\n",
      "3- product\n",
      "4- Division\n",
      "1\n",
      "Enter your Number3\n",
      "Enter your Number4\n",
      "Addition of 3.0 and 4.0 is: 7.0\n"
     ]
    }
   ],
   "source": [
    "option = input('''\n",
    "1- Addition \n",
    "2- Subtraction\n",
    "3- product\n",
    "4- Division\n",
    "''')\n",
    "number1 = float(input(\"Enter your Number\"))\n",
    "number2 = float(input(\"Enter your Number\"))\n",
    "\n",
    "if option == '1':\n",
    "    print(\"Addition of\",number1,'and',number2,'is:',number1+number2)\n",
    "elif option =='2':\n",
    "    print(\"Difference of\",number1,'and',number2,'is:',number1-number2)\n",
    "elif option =='3':\n",
    "    print(\"Product of\",number1,'and',number2,'is:',number1*number2)\n",
    "elif option =='4':\n",
    "    print(\"Division of\",number1,'and',number2,'is:',number1/number2)\n",
    "else:\n",
    "    print(\"Select valid Number\")"
   ]
  },
  {
   "cell_type": "raw",
   "id": "de39aefa",
   "metadata": {},
   "source": [
    "car cost = 5lac tax-> 5\n",
    "car cost = 6 to 10 tax -> 10\n",
    "car cost = 11 -20 tax -> 20\n",
    "car cost = 21 -30 tax -> 23\n",
    "car cost = 31lac -40 tax -> 25\n",
    "car cost = 41 - 50 tax -> 30\n",
    "car cost = 51 - 60 tax -> 35\n",
    "car cost = 1cr - 2 -> 45 tax \n",
    "car > 2 cr tax-> 50 tax"
   ]
  },
  {
   "cell_type": "raw",
   "id": "392284e3",
   "metadata": {},
   "source": [
    "Write a program to accept cost price of a car and display road tax to be paid according to following table. Also, calculate the final cost of the car after adding taxes to the original cost of the car. Check out the output below. Use a series of if elif to implement it.\n",
    " \n",
    "\n",
    "Price of car\tTax to be paid\n",
    "  <$90,000\t        6%\n",
    "   $90,000-$99,999\t12%"
   ]
  },
  {
   "cell_type": "raw",
   "id": "97ded9d0",
   "metadata": {},
   "source": [
    "Take 6 subjects marks each subject marks is 100 from Teacher and calculate obtained marks and percentage of a student and then assign a Grade to student on the basis of the given criteria below\n",
    "A: 90 and above\n",
    "B: between 80 and 89\n",
    "C: between 70 and 79\n",
    "D: between 60 and 69\n",
    "F: below 60\n",
    "\n",
    "output:\n",
    "Print Obtained\n",
    "print percentage\n",
    "Print Grade"
   ]
  },
  {
   "cell_type": "code",
   "execution_count": 13,
   "id": "bb22b64e",
   "metadata": {},
   "outputs": [
    {
     "name": "stdout",
     "output_type": "stream",
     "text": [
      "1\n",
      "2\n",
      "3\n",
      "4\n",
      "5\n",
      "6\n",
      "7\n",
      "8\n",
      "9\n",
      "10\n",
      "11\n",
      "12\n",
      "13\n",
      "14\n",
      "15\n",
      "16\n",
      "17\n",
      "18\n",
      "19\n",
      "20\n",
      "21\n",
      "22\n",
      "23\n",
      "24\n",
      "25\n",
      "26\n",
      "27\n",
      "28\n",
      "29\n",
      "30\n",
      "31\n",
      "32\n",
      "33\n",
      "34\n",
      "35\n",
      "36\n",
      "37\n",
      "38\n",
      "39\n",
      "40\n",
      "41\n",
      "42\n",
      "43\n",
      "44\n",
      "45\n",
      "46\n",
      "47\n",
      "48\n",
      "49\n",
      "50\n",
      "51\n",
      "52\n",
      "53\n",
      "54\n",
      "55\n",
      "56\n",
      "57\n",
      "58\n",
      "59\n",
      "60\n",
      "61\n",
      "62\n",
      "63\n",
      "64\n",
      "65\n",
      "66\n",
      "67\n",
      "68\n",
      "69\n",
      "70\n",
      "71\n",
      "72\n",
      "73\n",
      "74\n",
      "75\n",
      "76\n",
      "77\n",
      "78\n",
      "79\n",
      "80\n",
      "81\n",
      "82\n",
      "83\n",
      "84\n",
      "85\n",
      "86\n",
      "87\n",
      "88\n",
      "89\n",
      "90\n",
      "91\n",
      "92\n",
      "93\n",
      "94\n",
      "95\n",
      "96\n",
      "97\n",
      "98\n",
      "99\n"
     ]
    }
   ],
   "source": [
    "for itrator in iterable :\n",
    "    statment\n",
    "for i in range(1,100):\n",
    "    print(i)"
   ]
  },
  {
   "cell_type": "code",
   "execution_count": null,
   "id": "9183e6a1",
   "metadata": {},
   "outputs": [],
   "source": []
  }
 ],
 "metadata": {
  "kernelspec": {
   "display_name": "Python 3",
   "language": "python",
   "name": "python3"
  },
  "language_info": {
   "codemirror_mode": {
    "name": "ipython",
    "version": 3
   },
   "file_extension": ".py",
   "mimetype": "text/x-python",
   "name": "python",
   "nbconvert_exporter": "python",
   "pygments_lexer": "ipython3",
   "version": "3.8.8"
  }
 },
 "nbformat": 4,
 "nbformat_minor": 5
}
