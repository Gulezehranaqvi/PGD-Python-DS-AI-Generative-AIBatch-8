{
 "cells": [
  {
   "cell_type": "raw",
   "id": "c2671514",
   "metadata": {},
   "source": [
    "1- Check whether the number entered by a user is Even or Odd\n",
    "2- Check whether a number is divisible by 7 or not"
   ]
  },
  {
   "cell_type": "raw",
   "id": "0544dd77",
   "metadata": {},
   "source": [
    "3-calculate the electricity bill, we must understand electricity charges and rates.\n",
    "1 - 100 unit - 1.5/= \n",
    "101-200 unit - 2.5/= \n",
    "201-300 unit - 4/= \n",
    "300 - 350 unit - 5/=\n",
    "above 300 - fixed charge 1500/=\n",
    "Additional charges\n",
    "if units<=100 – 25.00\n",
    "if 100< units and units<=200 – 50.00\n",
    "if 200 < units and units<=300 – 75.00\n",
    "if 300<units and units<=350 – 100.00\n",
    "if units above 350 – No additional charges"
   ]
  },
  {
   "cell_type": "code",
   "execution_count": 4,
   "id": "da0f3748",
   "metadata": {},
   "outputs": [
    {
     "name": "stdout",
     "output_type": "stream",
     "text": [
      "Please enter the number of units you consumed in a Month : 100\n",
      "Electicity bill 175.0\n"
     ]
    }
   ],
   "source": [
    "#program for calculating electricity bill in Python\n",
    "units=int(input(\"Please enter the number of units you consumed in a Month : \"))\n",
    "if(units<=100):\n",
    "    payAmount=units*1.5\n",
    "    fixedcharge=25.00\n",
    "elif(units<=200):\n",
    "    payAmount=(100*1.5)+(units-100)*2.5\n",
    "    fixedcharge=50.00\n",
    "elif(units<=300):\n",
    "    payAmount=(100*1.5)+(200-100)*2.5+(units-200)*4\n",
    "    fixedcharge=75.00\n",
    "elif(units<=350):\n",
    "    payAmount=(100*1.5)+(200-100)*2.5+(300-200)*4+(units-300)*5\n",
    "    fixedcharge=100.00\n",
    "else:\n",
    "    payAmount=0\n",
    "    fixedcharge=1500.00\n",
    "\n",
    "Total=payAmount+fixedcharge\n",
    "print(\"Electicity bill\" ,Total)"
   ]
  },
  {
   "cell_type": "code",
   "execution_count": null,
   "id": "5446f57c",
   "metadata": {},
   "outputs": [],
   "source": []
  }
 ],
 "metadata": {
  "kernelspec": {
   "display_name": "Python 3",
   "language": "python",
   "name": "python3"
  },
  "language_info": {
   "codemirror_mode": {
    "name": "ipython",
    "version": 3
   },
   "file_extension": ".py",
   "mimetype": "text/x-python",
   "name": "python",
   "nbconvert_exporter": "python",
   "pygments_lexer": "ipython3",
   "version": "3.8.8"
  }
 },
 "nbformat": 4,
 "nbformat_minor": 5
}
