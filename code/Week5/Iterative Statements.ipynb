{
 "cells": [
  {
   "cell_type": "raw",
   "id": "522ecfb1",
   "metadata": {},
   "source": [
    "Loops in Python\n",
    "Need for loops\n",
    "While Loop\n",
    "For Loop"
   ]
  },
  {
   "cell_type": "code",
   "execution_count": null,
   "id": "cbeb9135",
   "metadata": {},
   "outputs": [],
   "source": [
    "name = 'Ahmed'\n",
    "for char in name:\n",
    "    print(char)\n",
    "print(\"Loop Execution completed\")"
   ]
  },
  {
   "cell_type": "code",
   "execution_count": null,
   "id": "790de3c6",
   "metadata": {},
   "outputs": [],
   "source": [
    "for number in range(1,11):\n",
    "    print(number)"
   ]
  },
  {
   "cell_type": "code",
   "execution_count": null,
   "id": "a4e2b3fa",
   "metadata": {},
   "outputs": [],
   "source": [
    "fruits= ['apple','banana','grapes']\n",
    "for fruit in fruits:\n",
    "    print(\"Fruit present in fruits list\",fruit)\n",
    "    print(\"hello\")"
   ]
  },
  {
   "cell_type": "code",
   "execution_count": null,
   "id": "fc00caed",
   "metadata": {},
   "outputs": [],
   "source": [
    "# 2*1=1 (number * i = number * i)\n",
    "number = int(input(\"Enter your desired Number: \"))\n",
    "for i in range(1,11):\n",
    "    print(number, \"*\",i,\"=\",number*i)"
   ]
  },
  {
   "cell_type": "code",
   "execution_count": null,
   "id": "db829ef7",
   "metadata": {},
   "outputs": [],
   "source": [
    "for i in range(0,50,2):\n",
    "    print(i)"
   ]
  },
  {
   "cell_type": "raw",
   "id": "65e9038e",
   "metadata": {},
   "source": [
    "Program - The current population of a town is 10000. The population of the town is increasing at the rate of 10% per year. You have to write a program to find out the population at the end of each of the last 10 years."
   ]
  },
  {
   "cell_type": "code",
   "execution_count": null,
   "id": "43c2e98a",
   "metadata": {},
   "outputs": [],
   "source": [
    "curr_pop = 10000\n",
    "\n",
    "for i in range(10,0,-1):\n",
    "  print(i,curr_pop)\n",
    "  curr_pop = curr_pop/1.1"
   ]
  },
  {
   "cell_type": "code",
   "execution_count": null,
   "id": "24fb636c",
   "metadata": {},
   "outputs": [],
   "source": [
    "population = int(input(\"Enter Population:\"))\n",
    "year = 2024\n",
    "for i in range(10):\n",
    "    print(\"Population in\",year,\":\",population)\n",
    "    population = population/1.1\n",
    "    year = year-1"
   ]
  },
  {
   "cell_type": "raw",
   "id": "a5b4b321",
   "metadata": {},
   "source": [
    "Sequence sum\n",
    "\n",
    "1/1! + 2/2! + 3/3! +4/4! ... (1+1+0.5+.166)"
   ]
  },
  {
   "cell_type": "code",
   "execution_count": 18,
   "id": "04b1ee63",
   "metadata": {},
   "outputs": [
    {
     "name": "stdout",
     "output_type": "stream",
     "text": [
      "enter number5\n",
      "1.0\n",
      "2.0\n",
      "2.5\n",
      "2.6666666666666665\n",
      "2.708333333333333\n"
     ]
    }
   ],
   "source": [
    "number = int(input('enter number'))\n",
    "result = 0\n",
    "fact = 1\n",
    "for i in range(1,number+1):\n",
    "  fact = fact * i\n",
    "  result = result + i/fact\n",
    "  print(result)"
   ]
  },
  {
   "cell_type": "markdown",
   "id": "4596b75c",
   "metadata": {},
   "source": [
    "# Nested Loop"
   ]
  },
  {
   "cell_type": "code",
   "execution_count": 11,
   "id": "159072e9",
   "metadata": {},
   "outputs": [
    {
     "name": "stdout",
     "output_type": "stream",
     "text": [
      "1 1\n",
      "1 2\n",
      "1 3\n",
      "1 4\n",
      "2 1\n",
      "2 2\n",
      "2 3\n",
      "2 4\n",
      "3 1\n",
      "3 2\n",
      "3 3\n",
      "3 4\n",
      "4 1\n",
      "4 2\n",
      "4 3\n",
      "4 4\n"
     ]
    }
   ],
   "source": [
    "for i in range(1,5):\n",
    "  for j in range(1,5):\n",
    "    print(i,j)"
   ]
  },
  {
   "cell_type": "code",
   "execution_count": 19,
   "id": "219886a9",
   "metadata": {},
   "outputs": [
    {
     "name": "stdout",
     "output_type": "stream",
     "text": [
      "10\n",
      "9\n",
      "8\n",
      "7\n",
      "6\n",
      "5\n",
      "4\n",
      "3\n",
      "2\n",
      "1\n",
      "0\n"
     ]
    }
   ],
   "source": [
    "for i in range(10,-1,-1):\n",
    "    print(i)"
   ]
  },
  {
   "cell_type": "code",
   "execution_count": 2,
   "id": "058405ff",
   "metadata": {},
   "outputs": [
    {
     "name": "stdout",
     "output_type": "stream",
     "text": [
      "enter the number4\n",
      "4 * 1 = 4\n",
      "4 * 2 = 8\n",
      "4 * 3 = 12\n",
      "4 * 4 = 16\n",
      "4 * 5 = 20\n",
      "4 * 6 = 24\n",
      "4 * 7 = 28\n",
      "4 * 8 = 32\n",
      "4 * 9 = 36\n",
      "4 * 10 = 40\n"
     ]
    }
   ],
   "source": [
    "number = int(input('enter the number'))\n",
    "i = 1\n",
    "while i<11:\n",
    "  print(number,'*',i,'=',number * i)\n",
    "  i += 1"
   ]
  },
  {
   "cell_type": "code",
   "execution_count": null,
   "id": "d638e930",
   "metadata": {},
   "outputs": [],
   "source": [
    "# while loop with else \n",
    "x = 1\n",
    "while x < 3:\n",
    "  print(x)\n",
    "  x += 1\n",
    "else:\n",
    "  print('limit crossed')"
   ]
  },
  {
   "cell_type": "code",
   "execution_count": null,
   "id": "20c5e266",
   "metadata": {},
   "outputs": [],
   "source": []
  },
  {
   "cell_type": "code",
   "execution_count": null,
   "id": "3c6b5d6e",
   "metadata": {},
   "outputs": [],
   "source": [
    "# Guessing game\n",
    "\n",
    "# generate a random integer between 1 and 100\n",
    "import random\n",
    "jackpot = random.randint(1,100)\n",
    "\n",
    "guess = int(input('guess karo'))\n",
    "counter = 1\n",
    "while guess != jackpot:\n",
    "  if guess < jackpot:\n",
    "    print('Wrong!guess higher')\n",
    "  else:\n",
    "    print('Wrong!guess lower')\n",
    "\n",
    "  guess = int(input('guess Again'))\n",
    "  counter += 1\n",
    "\n",
    "else:\n",
    "  print('correct guess')\n",
    "  print('attempts',counter)\n"
   ]
  },
  {
   "cell_type": "markdown",
   "id": "78f6c41a",
   "metadata": {},
   "source": [
    "## For Loop"
   ]
  },
  {
   "cell_type": "code",
   "execution_count": null,
   "id": "5c1186a6",
   "metadata": {},
   "outputs": [],
   "source": [
    "# For loop demo\n",
    "\n",
    "for i in {1,2,3,4,5}:\n",
    "  print(i)"
   ]
  },
  {
   "cell_type": "raw",
   "id": "a897a240",
   "metadata": {},
   "source": [
    "Program - The current population of a town is 20000. The population of the town is increasing at the rate of 10% per year. You have to write a program to find out the population at the end of each of the last 10 years."
   ]
  },
  {
   "cell_type": "code",
   "execution_count": null,
   "id": "1190b385",
   "metadata": {},
   "outputs": [],
   "source": [
    "curr_pop = 20000\n",
    "\n",
    "for i in range(10,0,-1):\n",
    "  print(i,curr_pop)\n",
    "  curr_pop = curr_pop/1.1"
   ]
  },
  {
   "cell_type": "raw",
   "id": "949af678",
   "metadata": {},
   "source": [
    "Sequence sum\n",
    "1/1! + 2/2! + 3/3! + ..."
   ]
  },
  {
   "cell_type": "code",
   "execution_count": null,
   "id": "f9699422",
   "metadata": {},
   "outputs": [],
   "source": [
    "n = int(input('enter number'))\n",
    "\n",
    "result = 0\n",
    "fact = 1\n",
    "\n",
    "for i in range(1,n+1):\n",
    "  fact = fact * i\n",
    "  result = result + i/fact\n",
    "\n",
    "print(result)"
   ]
  },
  {
   "cell_type": "markdown",
   "id": "930c7693",
   "metadata": {},
   "source": [
    "## Nested Loops"
   ]
  },
  {
   "cell_type": "code",
   "execution_count": null,
   "id": "ea034397",
   "metadata": {},
   "outputs": [],
   "source": [
    "# Examples -> unique pairs\n",
    "\n",
    "for i in range(1,5):\n",
    "  for j in range(1,5):\n",
    "    print(i,j)"
   ]
  },
  {
   "cell_type": "raw",
   "id": "45a439fa",
   "metadata": {},
   "source": [
    "Pattern 1\n",
    "*\n",
    "**\n",
    "***"
   ]
  },
  {
   "cell_type": "code",
   "execution_count": null,
   "id": "aa185ce0",
   "metadata": {},
   "outputs": [],
   "source": [
    "rows = int(input('enter number of rows'))\n",
    "\n",
    "for i in range(1,rows+1):\n",
    "  for j in range(1,i+1):\n",
    "    print('*',end='')\n",
    "  print()\n"
   ]
  },
  {
   "cell_type": "raw",
   "id": "ddee5748",
   "metadata": {},
   "source": [
    "Pattern 2\n",
    "1\n",
    "121\n",
    "12321\n",
    "1234321"
   ]
  },
  {
   "cell_type": "code",
   "execution_count": null,
   "id": "c3824fd5",
   "metadata": {},
   "outputs": [],
   "source": [
    "rows = int(input('enter number of rows'))\n",
    "for i in range(1,rows+1):\n",
    "  for j in range(1,i+1):\n",
    "    print(j,end='')\n",
    "  for k in range(i-1,0,-1):\n",
    "    print(k,end='')\n",
    "\n",
    "  print()\n"
   ]
  },
  {
   "cell_type": "code",
   "execution_count": null,
   "id": "a05b911c",
   "metadata": {},
   "outputs": [],
   "source": []
  }
 ],
 "metadata": {
  "kernelspec": {
   "display_name": "Python 3",
   "language": "python",
   "name": "python3"
  },
  "language_info": {
   "codemirror_mode": {
    "name": "ipython",
    "version": 3
   },
   "file_extension": ".py",
   "mimetype": "text/x-python",
   "name": "python",
   "nbconvert_exporter": "python",
   "pygments_lexer": "ipython3",
   "version": "3.8.8"
  }
 },
 "nbformat": 4,
 "nbformat_minor": 5
}
