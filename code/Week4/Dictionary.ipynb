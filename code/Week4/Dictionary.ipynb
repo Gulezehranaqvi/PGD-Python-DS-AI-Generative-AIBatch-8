{
  "nbformat": 4,
  "nbformat_minor": 0,
  "metadata": {
    "colab": {
      "provenance": []
    },
    "kernelspec": {
      "name": "python3",
      "display_name": "Python 3"
    },
    "language_info": {
      "name": "python"
    }
  },
  "cells": [
    {
      "cell_type": "code",
      "execution_count": null,
      "metadata": {
        "id": "I3IJjrBIvO8n"
      },
      "outputs": [],
      "source": [
        "# Dictionaries are used to store data values in key:value pairs.A dictionary is a collection which is ordered*, changeable and do not allow duplicates.\n",
        "# key value pair {}\n",
        "# mutable\n",
        "# key always be imutable\n",
        "# key always be unique"
      ]
    },
    {
      "cell_type": "code",
      "source": [
        "d = {'Name':'Sajid','Gender':'Male','Skills':['Data Science','ML','AI'],'Age':31}\n",
        "print(d)\n",
        "print(type(d))"
      ],
      "metadata": {
        "colab": {
          "base_uri": "https://localhost:8080/"
        },
        "id": "-N7LJhIYwOL5",
        "outputId": "8578a659-8403-4431-a532-078864dabc33"
      },
      "execution_count": null,
      "outputs": [
        {
          "output_type": "stream",
          "name": "stdout",
          "text": [
            "{'Name': 'Sajid', 'Gender': 'Male', 'Skills': ['Data Science', 'ML', 'AI'], 'Age': 31}\n",
            "<class 'dict'>\n"
          ]
        }
      ]
    },
    {
      "cell_type": "code",
      "source": [
        "d.get('Skills')"
      ],
      "metadata": {
        "colab": {
          "base_uri": "https://localhost:8080/"
        },
        "id": "bxPqJs1l0DaA",
        "outputId": "e4f27347-9eb7-4460-d93c-bf0a93bcce29"
      },
      "execution_count": null,
      "outputs": [
        {
          "output_type": "execute_result",
          "data": {
            "text/plain": [
              "['Data Science', 'ML', 'AI']"
            ]
          },
          "metadata": {},
          "execution_count": 23
        }
      ]
    },
    {
      "cell_type": "code",
      "source": [
        "d2 = {'Name':'Sajid Majeed','Gender':'Male','Marks':{'Ml':50,\n",
        "                                              'AI':60,\n",
        "                                              'DL':70}}\n",
        "print(d2)\n",
        "print(type(d2))"
      ],
      "metadata": {
        "colab": {
          "base_uri": "https://localhost:8080/"
        },
        "id": "wlUNVyLkwfDu",
        "outputId": "d72a8b15-dce8-4c7a-e3aa-a04044cb7294"
      },
      "execution_count": null,
      "outputs": [
        {
          "output_type": "stream",
          "name": "stdout",
          "text": [
            "{'Name': 'Sajid Majeed', 'Gender': 'Male', 'Marks': {'Ml': 50, 'AI': 60, 'DL': 70}}\n",
            "<class 'dict'>\n"
          ]
        }
      ]
    },
    {
      "cell_type": "code",
      "source": [
        "d2.get('Marks')['AI']"
      ],
      "metadata": {
        "colab": {
          "base_uri": "https://localhost:8080/"
        },
        "id": "rOvGCcLd44H8",
        "outputId": "eccac7e1-c498-4da1-b555-4fbf7c8df69c"
      },
      "execution_count": null,
      "outputs": [
        {
          "output_type": "execute_result",
          "data": {
            "text/plain": [
              "60"
            ]
          },
          "metadata": {},
          "execution_count": 41
        }
      ]
    },
    {
      "cell_type": "code",
      "source": [
        "d2['Marks']['AI']"
      ],
      "metadata": {
        "colab": {
          "base_uri": "https://localhost:8080/"
        },
        "id": "X1EI8ozjy4vS",
        "outputId": "4545dda0-b55d-410f-d49b-f7de7af5ea56"
      },
      "execution_count": null,
      "outputs": [
        {
          "output_type": "execute_result",
          "data": {
            "text/plain": [
              "60"
            ]
          },
          "metadata": {},
          "execution_count": 34
        }
      ]
    },
    {
      "cell_type": "code",
      "source": [
        "d+d2"
      ],
      "metadata": {
        "colab": {
          "base_uri": "https://localhost:8080/",
          "height": 141
        },
        "id": "9CbROIdW0wvB",
        "outputId": "a1975704-2dce-46fd-d3f9-971221d29738"
      },
      "execution_count": null,
      "outputs": [
        {
          "output_type": "error",
          "ename": "TypeError",
          "evalue": "unsupported operand type(s) for +: 'dict' and 'dict'",
          "traceback": [
            "\u001b[0;31m---------------------------------------------------------------------------\u001b[0m",
            "\u001b[0;31mTypeError\u001b[0m                                 Traceback (most recent call last)",
            "\u001b[0;32m<ipython-input-37-e00052c4d18e>\u001b[0m in \u001b[0;36m<cell line: 1>\u001b[0;34m()\u001b[0m\n\u001b[0;32m----> 1\u001b[0;31m \u001b[0md\u001b[0m\u001b[0;34m+\u001b[0m\u001b[0md2\u001b[0m\u001b[0;34m\u001b[0m\u001b[0;34m\u001b[0m\u001b[0m\n\u001b[0m",
            "\u001b[0;31mTypeError\u001b[0m: unsupported operand type(s) for +: 'dict' and 'dict'"
          ]
        }
      ]
    },
    {
      "cell_type": "code",
      "source": [
        "d.update(d2)\n",
        "print(d)"
      ],
      "metadata": {
        "colab": {
          "base_uri": "https://localhost:8080/"
        },
        "id": "KwTxBc6H17-U",
        "outputId": "84061c6f-4b22-4b25-93a8-83a445831555"
      },
      "execution_count": null,
      "outputs": [
        {
          "output_type": "stream",
          "name": "stdout",
          "text": [
            "{'Name': 'Sajid Majeed', 'Gender': 'Male', 'Skills': ['Data Science', 'ML', 'AI'], 'Age': 31, 'Marks': {'Ml': 50, 'AI': 60, 'DL': 70}}\n"
          ]
        }
      ]
    },
    {
      "cell_type": "code",
      "source": [
        "# For complete Dictionary\n",
        "print(d.items())\n",
        "# For retrieving Keys\n",
        "print(d.keys())\n",
        "# For retrieving values\n",
        "d.values()"
      ],
      "metadata": {
        "colab": {
          "base_uri": "https://localhost:8080/"
        },
        "id": "CRZPfZci2TH_",
        "outputId": "e9cd7b3f-e445-4d1b-fc1e-2d4df76e8771"
      },
      "execution_count": null,
      "outputs": [
        {
          "output_type": "stream",
          "name": "stdout",
          "text": [
            "dict_items([('Name', 'Sajid Majeed'), ('Gender', 'Male'), ('Skills', ['Data Science', 'ML', 'AI']), ('Age', 31), ('Marks', {'Ml': 50, 'AI': 60, 'DL': 70})])\n",
            "dict_keys(['Name', 'Gender', 'Skills', 'Age', 'Marks'])\n"
          ]
        },
        {
          "output_type": "execute_result",
          "data": {
            "text/plain": [
              "dict_values(['Sajid Majeed', 'Male', ['Data Science', 'ML', 'AI'], 31, {'Ml': 50, 'AI': 60, 'DL': 70}])"
            ]
          },
          "metadata": {},
          "execution_count": 45
        }
      ]
    },
    {
      "cell_type": "code",
      "source": [
        "len(d)"
      ],
      "metadata": {
        "colab": {
          "base_uri": "https://localhost:8080/"
        },
        "id": "Jv2Gooc65_Nv",
        "outputId": "da727f1d-0388-4431-da40-5d8fa3f33c98"
      },
      "execution_count": null,
      "outputs": [
        {
          "output_type": "execute_result",
          "data": {
            "text/plain": [
              "5"
            ]
          },
          "metadata": {},
          "execution_count": 47
        }
      ]
    },
    {
      "cell_type": "code",
      "source": [
        "min(d)"
      ],
      "metadata": {
        "colab": {
          "base_uri": "https://localhost:8080/",
          "height": 35
        },
        "id": "A4r3jhR07I0M",
        "outputId": "508744b4-08bd-4981-afed-7f01008fd70e"
      },
      "execution_count": null,
      "outputs": [
        {
          "output_type": "execute_result",
          "data": {
            "text/plain": [
              "'Age'"
            ],
            "application/vnd.google.colaboratory.intrinsic+json": {
              "type": "string"
            }
          },
          "metadata": {},
          "execution_count": 48
        }
      ]
    },
    {
      "cell_type": "code",
      "source": [
        "sorted(d)"
      ],
      "metadata": {
        "colab": {
          "base_uri": "https://localhost:8080/"
        },
        "id": "DNq-c-O97TQi",
        "outputId": "d96811b0-4c36-4b08-f746-d5d6ca5285a5"
      },
      "execution_count": null,
      "outputs": [
        {
          "output_type": "execute_result",
          "data": {
            "text/plain": [
              "['Age', 'Gender', 'Marks', 'Name', 'Skills']"
            ]
          },
          "metadata": {},
          "execution_count": 49
        }
      ]
    },
    {
      "cell_type": "code",
      "source": [
        "d['Profession'] = 'Data Scientist'\n",
        "print(d)"
      ],
      "metadata": {
        "colab": {
          "base_uri": "https://localhost:8080/"
        },
        "id": "hfUnPBME7Vob",
        "outputId": "d62c20b5-40fa-4c17-81cf-c7ac0a2e757a"
      },
      "execution_count": null,
      "outputs": [
        {
          "output_type": "stream",
          "name": "stdout",
          "text": [
            "{'Name': 'Sajid Majeed', 'Gender': 'Male', 'Skills': ['Data Science', 'ML', 'AI'], 'Age': 32, 'Marks': {'Ml': 50, 'AI': 60, 'DL': 70}, 'Profession': 'Data Scientist'}\n"
          ]
        }
      ]
    },
    {
      "cell_type": "code",
      "source": [
        "d['Age']=35\n",
        "print(d)"
      ],
      "metadata": {
        "colab": {
          "base_uri": "https://localhost:8080/"
        },
        "id": "6iuuh7G37pLG",
        "outputId": "0188509d-6607-4203-efe9-46c15407bfcf"
      },
      "execution_count": null,
      "outputs": [
        {
          "output_type": "stream",
          "name": "stdout",
          "text": [
            "{'Name': 'Sajid Majeed', 'Gender': 'Male', 'Skills': ['Data Science', 'ML', 'AI'], 'Age': 35, 'Marks': {'Ml': 50, 'AI': 60, 'DL': 70}, 'Profession': 'Data Scientist'}\n"
          ]
        }
      ]
    },
    {
      "cell_type": "code",
      "source": [
        "# pop('key')\n",
        "#d.pop('Skills')\n",
        "print(d)\n",
        "#pop items()\n",
        "d.popitem()\n",
        "print(d)"
      ],
      "metadata": {
        "colab": {
          "base_uri": "https://localhost:8080/"
        },
        "id": "h_gyrIK78Cpo",
        "outputId": "ddd943b8-a5a3-4940-8753-5365a11b99be"
      },
      "execution_count": null,
      "outputs": [
        {
          "output_type": "stream",
          "name": "stdout",
          "text": [
            "{'Name': 'Sajid Majeed'}\n",
            "{}\n"
          ]
        }
      ]
    },
    {
      "cell_type": "code",
      "source": [
        "import math\n",
        "# print(dir(math))"
      ],
      "metadata": {
        "colab": {
          "base_uri": "https://localhost:8080/"
        },
        "id": "tphS_riQ9L8j",
        "outputId": "fe525ea8-8130-4f6d-ef0f-2179380146ac"
      },
      "execution_count": null,
      "outputs": [
        {
          "output_type": "stream",
          "name": "stdout",
          "text": [
            "['__doc__', '__loader__', '__name__', '__package__', '__spec__', 'acos', 'acosh', 'asin', 'asinh', 'atan', 'atan2', 'atanh', 'ceil', 'comb', 'copysign', 'cos', 'cosh', 'degrees', 'dist', 'e', 'erf', 'erfc', 'exp', 'expm1', 'fabs', 'factorial', 'floor', 'fmod', 'frexp', 'fsum', 'gamma', 'gcd', 'hypot', 'inf', 'isclose', 'isfinite', 'isinf', 'isnan', 'isqrt', 'lcm', 'ldexp', 'lgamma', 'log', 'log10', 'log1p', 'log2', 'modf', 'nan', 'nextafter', 'perm', 'pi', 'pow', 'prod', 'radians', 'remainder', 'sin', 'sinh', 'sqrt', 'tan', 'tanh', 'tau', 'trunc', 'ulp']\n"
          ]
        }
      ]
    },
    {
      "cell_type": "code",
      "source": [
        "math.sqrt(43765348658)"
      ],
      "metadata": {
        "colab": {
          "base_uri": "https://localhost:8080/"
        },
        "id": "-juMQrmDAdW5",
        "outputId": "96ddefb8-f666-42c8-eb05-894c75ace80b"
      },
      "execution_count": null,
      "outputs": [
        {
          "output_type": "execute_result",
          "data": {
            "text/plain": [
              "209201.6937264132"
            ]
          },
          "metadata": {},
          "execution_count": 66
        }
      ]
    },
    {
      "cell_type": "code",
      "source": [
        "math.floor(6.7)"
      ],
      "metadata": {
        "colab": {
          "base_uri": "https://localhost:8080/"
        },
        "id": "uJ_xz_2MA07x",
        "outputId": "5b99543a-b0b5-487f-ced1-ff60fd22d751"
      },
      "execution_count": null,
      "outputs": [
        {
          "output_type": "execute_result",
          "data": {
            "text/plain": [
              "6"
            ]
          },
          "metadata": {},
          "execution_count": 67
        }
      ]
    },
    {
      "cell_type": "code",
      "source": [
        "math.ceil(6.7)"
      ],
      "metadata": {
        "colab": {
          "base_uri": "https://localhost:8080/"
        },
        "id": "srQnc1uSBPi9",
        "outputId": "78bbd64e-20ff-4a49-a254-f06aa64a6814"
      },
      "execution_count": null,
      "outputs": [
        {
          "output_type": "execute_result",
          "data": {
            "text/plain": [
              "7"
            ]
          },
          "metadata": {},
          "execution_count": 68
        }
      ]
    },
    {
      "cell_type": "code",
      "source": [
        "# Factorial 5! = 5*4*3*2*1\n",
        "math.factorial(5)"
      ],
      "metadata": {
        "colab": {
          "base_uri": "https://localhost:8080/"
        },
        "id": "B0ibZsZhBTC8",
        "outputId": "c66f2369-3cc6-4d87-9e59-6fc355151603"
      },
      "execution_count": null,
      "outputs": [
        {
          "output_type": "execute_result",
          "data": {
            "text/plain": [
              "120"
            ]
          },
          "metadata": {},
          "execution_count": 72
        }
      ]
    },
    {
      "cell_type": "code",
      "source": [
        "math.pow(8,3)"
      ],
      "metadata": {
        "colab": {
          "base_uri": "https://localhost:8080/"
        },
        "id": "zTam8NfvBbbY",
        "outputId": "6a6b6fd3-77b6-48fd-930e-7bd5b879a7c9"
      },
      "execution_count": null,
      "outputs": [
        {
          "output_type": "execute_result",
          "data": {
            "text/plain": [
              "512.0"
            ]
          },
          "metadata": {},
          "execution_count": 75
        }
      ]
    },
    {
      "cell_type": "code",
      "source": [
        "import modulefinder\n",
        "dir(modulefinder)"
      ],
      "metadata": {
        "colab": {
          "base_uri": "https://localhost:8080/"
        },
        "id": "TCioJX1fB_SJ",
        "outputId": "b6899733-56a1-4d17-b97d-f44a16eb2a83"
      },
      "execution_count": null,
      "outputs": [
        {
          "output_type": "execute_result",
          "data": {
            "text/plain": [
              "['AddPackagePath',\n",
              " 'EXTENDED_ARG',\n",
              " 'IMPORT_NAME',\n",
              " 'LOAD_CONST',\n",
              " 'Module',\n",
              " 'ModuleFinder',\n",
              " 'ReplacePackage',\n",
              " 'STORE_GLOBAL',\n",
              " 'STORE_NAME',\n",
              " 'STORE_OPS',\n",
              " '_C_BUILTIN',\n",
              " '_C_EXTENSION',\n",
              " '_PKG_DIRECTORY',\n",
              " '_PY_COMPILED',\n",
              " '_PY_FROZEN',\n",
              " '_PY_SOURCE',\n",
              " '_SEARCH_ERROR',\n",
              " '__builtins__',\n",
              " '__cached__',\n",
              " '__doc__',\n",
              " '__file__',\n",
              " '__loader__',\n",
              " '__name__',\n",
              " '__package__',\n",
              " '__spec__',\n",
              " '_find_module',\n",
              " 'dis',\n",
              " 'importlib',\n",
              " 'io',\n",
              " 'marshal',\n",
              " 'os',\n",
              " 'packagePathMap',\n",
              " 'replacePackageMap',\n",
              " 'sys',\n",
              " 'test']"
            ]
          },
          "metadata": {},
          "execution_count": 77
        }
      ]
    },
    {
      "cell_type": "code",
      "source": [
        "import keyword\n",
        "print(dir(keyword))"
      ],
      "metadata": {
        "colab": {
          "base_uri": "https://localhost:8080/"
        },
        "id": "klxg0fgLCMzO",
        "outputId": "d5968430-0ebc-436b-a6a4-cf6f8a18aa01"
      },
      "execution_count": null,
      "outputs": [
        {
          "output_type": "stream",
          "name": "stdout",
          "text": [
            "['__all__', '__builtins__', '__cached__', '__doc__', '__file__', '__loader__', '__name__', '__package__', '__spec__', 'iskeyword', 'issoftkeyword', 'kwlist', 'softkwlist']\n"
          ]
        }
      ]
    },
    {
      "cell_type": "code",
      "source": [
        "import random\n",
        "random.randint(1,10)"
      ],
      "metadata": {
        "colab": {
          "base_uri": "https://localhost:8080/"
        },
        "id": "NT_aENzTCrNK",
        "outputId": "8975bea5-730f-490b-8188-ee3a6377e6f6"
      },
      "execution_count": null,
      "outputs": [
        {
          "output_type": "execute_result",
          "data": {
            "text/plain": [
              "2"
            ]
          },
          "metadata": {},
          "execution_count": 86
        }
      ]
    },
    {
      "cell_type": "code",
      "source": [
        "help(keyword)"
      ],
      "metadata": {
        "colab": {
          "base_uri": "https://localhost:8080/"
        },
        "id": "gYBf5xJSC4_u",
        "outputId": "25fa63c4-441c-4c49-b766-aedf1d8bf7b9"
      },
      "execution_count": null,
      "outputs": [
        {
          "output_type": "stream",
          "name": "stdout",
          "text": [
            "Help on module keyword:\n",
            "\n",
            "NAME\n",
            "    keyword - Keywords (from \"Grammar/python.gram\")\n",
            "\n",
            "MODULE REFERENCE\n",
            "    https://docs.python.org/3.10/library/keyword.html\n",
            "    \n",
            "    The following documentation is automatically generated from the Python\n",
            "    source files.  It may be incomplete, incorrect or include features that\n",
            "    are considered implementation detail and may vary between Python\n",
            "    implementations.  When in doubt, consult the module reference at the\n",
            "    location listed above.\n",
            "\n",
            "DESCRIPTION\n",
            "    This file is automatically generated; please don't muck it up!\n",
            "    \n",
            "    To update the symbols in this file, 'cd' to the top directory of\n",
            "    the python source tree and run:\n",
            "    \n",
            "        PYTHONPATH=Tools/peg_generator python3 -m pegen.keywordgen         Grammar/python.gram         Grammar/Tokens         Lib/keyword.py\n",
            "    \n",
            "    Alternatively, you can run 'make regen-keyword'.\n",
            "\n",
            "FUNCTIONS\n",
            "    iskeyword = __contains__(...) method of builtins.frozenset instance\n",
            "        x.__contains__(y) <==> y in x.\n",
            "    \n",
            "    issoftkeyword = __contains__(...) method of builtins.frozenset instance\n",
            "        x.__contains__(y) <==> y in x.\n",
            "\n",
            "DATA\n",
            "    __all__ = ['iskeyword', 'issoftkeyword', 'kwlist', 'softkwlist']\n",
            "    kwlist = ['False', 'None', 'True', 'and', 'as', 'assert', 'async', 'aw...\n",
            "    softkwlist = ['_', 'case', 'match']\n",
            "\n",
            "FILE\n",
            "    /usr/lib/python3.10/keyword.py\n",
            "\n",
            "\n"
          ]
        }
      ]
    },
    {
      "cell_type": "code",
      "source": [
        "name = [1,2,3,4]\n",
        "for i in name:\n",
        "    print(i)"
      ],
      "metadata": {
        "colab": {
          "base_uri": "https://localhost:8080/"
        },
        "id": "rwKAVcSWER-y",
        "outputId": "5bc138a0-112a-429e-9508-35459a3bf1b4"
      },
      "execution_count": null,
      "outputs": [
        {
          "output_type": "stream",
          "name": "stdout",
          "text": [
            "1\n",
            "2\n",
            "3\n",
            "4\n"
          ]
        }
      ]
    },
    {
      "cell_type": "code",
      "source": [
        "#  condtional Stements\n",
        "# if ,else , elif , nested if"
      ],
      "metadata": {
        "id": "kBHtX4qiEUJi"
      },
      "execution_count": null,
      "outputs": []
    },
    {
      "cell_type": "code",
      "source": [
        "age = 18\n",
        "\n",
        "if age>=18:\n",
        "    print('You are eligible to vote')\n",
        "else:\n",
        "    print('You are not eligible to vote')"
      ],
      "metadata": {
        "colab": {
          "base_uri": "https://localhost:8080/"
        },
        "id": "JYwGx4U4FOmY",
        "outputId": "fb5adce5-890a-49df-ad59-b726a7c12e80"
      },
      "execution_count": null,
      "outputs": [
        {
          "output_type": "stream",
          "name": "stdout",
          "text": [
            "You are eligible to vote\n"
          ]
        }
      ]
    },
    {
      "cell_type": "code",
      "source": [],
      "metadata": {
        "id": "rmLS0UtAFfOm"
      },
      "execution_count": null,
      "outputs": []
    }
  ]
}