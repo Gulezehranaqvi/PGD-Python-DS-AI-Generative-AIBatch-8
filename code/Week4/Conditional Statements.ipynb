{
 "cells": [
  {
   "cell_type": "raw",
   "id": "8d278290",
   "metadata": {},
   "source": [
    "# statements carry conditions \n",
    "# Indentation\n",
    "# Branching concept\n",
    "# if ,else ,elif "
   ]
  },
  {
   "cell_type": "code",
   "execution_count": null,
   "id": "39aafd80",
   "metadata": {},
   "outputs": [],
   "source": [
    "# if Condition:\n",
    "#   statements"
   ]
  },
  {
   "cell_type": "code",
   "execution_count": 24,
   "id": "58e72b16",
   "metadata": {},
   "outputs": [
    {
     "name": "stdout",
     "output_type": "stream",
     "text": [
      "Number is 6\n",
      "I am out of If block\n"
     ]
    }
   ],
   "source": [
    "number = 6\n",
    "if number>5:\n",
    "    print(\"Number is\",number)\n",
    "print(\"I am out of If block\")"
   ]
  },
  {
   "cell_type": "code",
   "execution_count": 27,
   "id": "541765cd",
   "metadata": {},
   "outputs": [
    {
     "name": "stdout",
     "output_type": "stream",
     "text": [
      "Number is Less than 5 \n"
     ]
    }
   ],
   "source": [
    "number = 3\n",
    "if number>5:\n",
    "    print(\"Number is Greater than\",number)\n",
    "else:\n",
    "    print(\"Number is Less than 5 \")"
   ]
  },
  {
   "cell_type": "code",
   "execution_count": 16,
   "id": "ab245e13",
   "metadata": {},
   "outputs": [
    {
     "name": "stdout",
     "output_type": "stream",
     "text": [
      "Enter your Number9\n",
      "Number Entered by user is Positive\n"
     ]
    }
   ],
   "source": [
    "# identify a nature of a number is +ve , zero , _ve entered by user\n",
    "number = int(input(\"Enter your Number\"))\n",
    "\n",
    "if number>0:\n",
    "    print(\"Number Entered by user is Positive\")\n",
    "elif number<0:\n",
    "    print(\"Number Entered by user is Negative\")\n",
    "else:\n",
    "    print(\"Number is Zero\")"
   ]
  },
  {
   "cell_type": "code",
   "execution_count": 26,
   "id": "c2efada0",
   "metadata": {},
   "outputs": [
    {
     "name": "stdout",
     "output_type": "stream",
     "text": [
      "Enter a number: +4\n",
      "The number is positive.\n"
     ]
    }
   ],
   "source": [
    "user_input = input(\"Enter a number: \")\n",
    "\n",
    "if user_input.replace(\".\",\"\").replace(\"-\",\"\").replace(\"+\",\"\").isdigit():\n",
    "  # Check if input is a digit\n",
    "    num = float(user_input)\n",
    "    if num > 0:\n",
    "        print(\"The number is positive.\")\n",
    "    elif num == 0:\n",
    "        print(\"The number is zero.\")\n",
    "    else:\n",
    "        print(\"The number is negative.\")\n",
    "else:\n",
    "    print(\"Enter a valid number.\")"
   ]
  },
  {
   "cell_type": "raw",
   "id": "93beaa21",
   "metadata": {},
   "source": [
    "if condtion:\n",
    "    statement\n",
    "    if condition:\n",
    "        statement\n",
    "    else:\n",
    "        statement\n",
    "else:\n",
    "    statement"
   ]
  },
  {
   "cell_type": "code",
   "execution_count": 29,
   "id": "bfbe51ea",
   "metadata": {},
   "outputs": [
    {
     "name": "stdout",
     "output_type": "stream",
     "text": [
      "Enter your Email Address: sajid\n",
      "Enter your Password: 12345\n",
      "Incorrect Password and your account is blocked\n"
     ]
    }
   ],
   "source": [
    "# user login user name and password\n",
    "# username = sajid@gmail.com\n",
    "# password = '12345'\n",
    "\n",
    "username = input(\"Enter your Email Address: \")\n",
    "password = input(\"Enter your Password: \")\n",
    "\n",
    "if username == 'sajid@gmail.com' and password == '12345':\n",
    "    print(\"welcome to Gmail\")\n",
    "else:\n",
    "    print(\"Incorrect Password and your account is blocked\")"
   ]
  },
  {
   "cell_type": "code",
   "execution_count": 33,
   "id": "366505fc",
   "metadata": {},
   "outputs": [
    {
     "name": "stdout",
     "output_type": "stream",
     "text": [
      "Enter your Email Address: sajdi@gmail.com\n",
      "Enter your Password: 8768\n",
      "Incorrect Password and your account is blocked\n"
     ]
    }
   ],
   "source": [
    "username = input(\"Enter your Email Address: \")\n",
    "password = input(\"Enter your Password: \")\n",
    "\n",
    "if username == 'sajid@gmail.com' and password == '12345':\n",
    "    print(\"welcome to Gmail\")\n",
    "elif username == 'sajid@gmail.com' and password != '12345':\n",
    "    print(\"Re Enter your password\")\n",
    "    password = input(\"Enter password Again\")\n",
    "    if password == '12345':\n",
    "        print(\"Welcome to Gmail after 2nd Attempt\")\n",
    "    else:\n",
    "        print(\"Bhai app Rehny den\")\n",
    "else:\n",
    "    print(\"Incorrect Password and your account is blocked\")"
   ]
  },
  {
   "cell_type": "code",
   "execution_count": 34,
   "id": "086eeb2a",
   "metadata": {},
   "outputs": [
    {
     "data": {
      "text/plain": [
       "7"
      ]
     },
     "execution_count": 34,
     "metadata": {},
     "output_type": "execute_result"
    }
   ],
   "source": [
    "max(3,5,7)"
   ]
  },
  {
   "cell_type": "code",
   "execution_count": 35,
   "id": "8a241e14",
   "metadata": {},
   "outputs": [
    {
     "data": {
      "text/plain": [
       "2"
      ]
     },
     "execution_count": 35,
     "metadata": {},
     "output_type": "execute_result"
    }
   ],
   "source": [
    "min(9,2,3)"
   ]
  },
  {
   "cell_type": "code",
   "execution_count": 39,
   "id": "67225c57",
   "metadata": {},
   "outputs": [
    {
     "name": "stdout",
     "output_type": "stream",
     "text": [
      "Enter Number1 :45\n",
      "Enter Number2 :4\n",
      "Enter Number3 :5\n",
      "Number2 is Smallest 4\n"
     ]
    }
   ],
   "source": [
    "number1 = int(input(\"Enter Number1 :\"))\n",
    "number2 = int(input(\"Enter Number2 :\"))\n",
    "number3 = int(input(\"Enter Number3 :\"))\n",
    "\n",
    "if number1<number2 and number1<number3:\n",
    "    print(\"Number1 is Smallest \",number1)\n",
    "elif number2< number3:\n",
    "    print(\"Number2 is Smallest\",number2)\n",
    "else:\n",
    "    print(\"Number3 is Smallest\",number3)"
   ]
  },
  {
   "cell_type": "code",
   "execution_count": 43,
   "id": "c2318b51",
   "metadata": {},
   "outputs": [
    {
     "name": "stdout",
     "output_type": "stream",
     "text": [
      "Enter Number1 :3\n",
      "Enter Number2 :3\n",
      "Enter Number3 :3\n",
      "Number3 is largest 3\n"
     ]
    }
   ],
   "source": [
    "number1 = int(input(\"Enter Number1 :\"))\n",
    "number2 = int(input(\"Enter Number2 :\"))\n",
    "number3 = int(input(\"Enter Number3 :\"))\n",
    "\n",
    "if number1>number2 and number1>number3:\n",
    "    print(\"Number1 is largest \",number1)\n",
    "elif number2> number3:\n",
    "    print(\"Number2 is largest\",number2)\n",
    "else:\n",
    "    print(\"Number3 is largest\",number3)"
   ]
  },
  {
   "cell_type": "code",
   "execution_count": null,
   "id": "f3205847",
   "metadata": {},
   "outputs": [],
   "source": []
  }
 ],
 "metadata": {
  "kernelspec": {
   "display_name": "Python 3",
   "language": "python",
   "name": "python3"
  },
  "language_info": {
   "codemirror_mode": {
    "name": "ipython",
    "version": 3
   },
   "file_extension": ".py",
   "mimetype": "text/x-python",
   "name": "python",
   "nbconvert_exporter": "python",
   "pygments_lexer": "ipython3",
   "version": "3.8.8"
  }
 },
 "nbformat": 4,
 "nbformat_minor": 5
}
